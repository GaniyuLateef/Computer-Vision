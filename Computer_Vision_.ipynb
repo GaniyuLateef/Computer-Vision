{
  "cells": [
    {
      "cell_type": "markdown",
      "metadata": {
        "id": "view-in-github",
        "colab_type": "text"
      },
      "source": [
        "<a href=\"https://colab.research.google.com/github/GaniyuLateef/Computer-Vision/blob/main/Computer_Vision_.ipynb\" target=\"_parent\"><img src=\"https://colab.research.google.com/assets/colab-badge.svg\" alt=\"Open In Colab\"/></a>"
      ]
    },
    {
      "cell_type": "markdown",
      "id": "beb52870",
      "metadata": {
        "id": "beb52870"
      },
      "source": [
        "# Computer Vision"
      ]
    },
    {
      "cell_type": "code",
      "execution_count": null,
      "id": "cbbb7b25",
      "metadata": {
        "id": "cbbb7b25",
        "outputId": "0d39595f-2a0f-4cc8-e6a1-aa5abf67da0d"
      },
      "outputs": [
        {
          "name": "stdout",
          "output_type": "stream",
          "text": [
            "Requirement already satisfied: opencv-python in c:\\users\\ganiyu lateef gbadeb\\anaconda3\\lib\\site-packages (4.7.0.72)\n",
            "Requirement already satisfied: numpy>=1.17.0 in c:\\users\\ganiyu lateef gbadeb\\anaconda3\\lib\\site-packages (from opencv-python) (1.21.5)\n"
          ]
        }
      ],
      "source": [
        "# install open cv\n",
        "!pip install opencv-python"
      ]
    },
    {
      "cell_type": "code",
      "execution_count": null,
      "id": "1caa10f4",
      "metadata": {
        "id": "1caa10f4"
      },
      "outputs": [],
      "source": [
        "# import library\n",
        "import cv2"
      ]
    },
    {
      "cell_type": "code",
      "execution_count": null,
      "id": "b3741c22",
      "metadata": {
        "id": "b3741c22"
      },
      "outputs": [],
      "source": [
        "# leverage haar - cascade classifier\n",
        "\n",
        "face_cascade = cv2.CascadeClassifier(cv2.data.haarcascades + 'haarcascade_frontalface_default.xml')\n",
        "eye_cascade = cv2.CascadeClassifier(cv2.data.haarcascades + 'haarcascade_eye.xml')\n",
        "smile_cascade = cv2.CascadeClassifier(cv2.data.haarcascades + 'haarcascade_smile.xml')"
      ]
    },
    {
      "cell_type": "code",
      "execution_count": null,
      "id": "d7f2adec",
      "metadata": {
        "id": "d7f2adec"
      },
      "outputs": [],
      "source": [
        "# Create a function that will detect the face\n",
        "\n",
        "def detect(gray, frame):\n",
        "    face= face_cascade.detectMultiScale(gray, 1.3,5)\n",
        "    for (x,y,w,h) in face:\n",
        "        cv2.rectangle(frame, (x,y),(x+w, y+h),(255,0,0), 3)\n",
        "        roi_gray = gray[y:y+h, x:x+w]\n",
        "        roi_color = frame[y:y+h, x:x+w]\n",
        "        \n",
        "        #eyes detection\n",
        "        eyes= eye_cascade.detectMultiScale(gray, 1.3,5)\n",
        "        for (ex,ey,ew,eh) in eyes:\n",
        "            cv2.rectangle(frame, (ex,ey),(ex+ew, ey+eh),(255,211,10), 1)\n",
        "            \n",
        "        #Smile Detection\n",
        "        smile = smile_cascade.detectMultiScale(gray, 1.7,22)\n",
        "        for (sx,sy,sw,sh) in smile:\n",
        "            cv2.rectangle(frame, (sx,sy),(sx+sw, sy+sh),(255,21,255), 0.5)\n",
        "            \n",
        "    return frame"
      ]
    },
    {
      "cell_type": "code",
      "execution_count": null,
      "id": "e5a63e23",
      "metadata": {
        "id": "e5a63e23"
      },
      "outputs": [],
      "source": [
        "# Test camera - use 0 if you are using local webcam or 1 for external webcam\n",
        "capture = cv2.VideoCapture(0)\n",
        "\n",
        "while True: \n",
        "    _, frame = capture.read()\n",
        "    gray = cv2.cvtColor(frame,cv2.COLOR_BGR2GRAY)\n",
        "    Canvas = detect(gray, frame)\n",
        "    cv2.imshow('Video', frame)\n",
        "    if cv2.waitKey(0) & 0xff == ord('q'):\n",
        "        break\n",
        "capture.release()\n",
        "cv2.destroyAllWindows()"
      ]
    },
    {
      "cell_type": "code",
      "execution_count": null,
      "id": "871b0e7b",
      "metadata": {
        "id": "871b0e7b"
      },
      "outputs": [],
      "source": []
    },
    {
      "cell_type": "code",
      "execution_count": null,
      "id": "7a0b27d9",
      "metadata": {
        "id": "7a0b27d9"
      },
      "outputs": [],
      "source": []
    },
    {
      "cell_type": "code",
      "execution_count": null,
      "id": "852839ab",
      "metadata": {
        "id": "852839ab"
      },
      "outputs": [],
      "source": []
    },
    {
      "cell_type": "code",
      "execution_count": null,
      "id": "97f08ece",
      "metadata": {
        "id": "97f08ece"
      },
      "outputs": [],
      "source": []
    },
    {
      "cell_type": "code",
      "execution_count": null,
      "id": "0af73329",
      "metadata": {
        "id": "0af73329"
      },
      "outputs": [],
      "source": []
    },
    {
      "cell_type": "code",
      "execution_count": null,
      "id": "47bd23ef",
      "metadata": {
        "id": "47bd23ef"
      },
      "outputs": [],
      "source": []
    },
    {
      "cell_type": "code",
      "execution_count": null,
      "id": "5c42a874",
      "metadata": {
        "id": "5c42a874"
      },
      "outputs": [],
      "source": []
    },
    {
      "cell_type": "code",
      "execution_count": null,
      "id": "ed5ae0dc",
      "metadata": {
        "id": "ed5ae0dc"
      },
      "outputs": [],
      "source": []
    },
    {
      "cell_type": "code",
      "execution_count": null,
      "id": "65fab0fa",
      "metadata": {
        "id": "65fab0fa"
      },
      "outputs": [],
      "source": []
    },
    {
      "cell_type": "code",
      "execution_count": null,
      "id": "33dba0aa",
      "metadata": {
        "id": "33dba0aa"
      },
      "outputs": [],
      "source": []
    },
    {
      "cell_type": "code",
      "execution_count": null,
      "id": "afea7db7",
      "metadata": {
        "id": "afea7db7"
      },
      "outputs": [],
      "source": []
    },
    {
      "cell_type": "code",
      "execution_count": null,
      "id": "ecf2c62c",
      "metadata": {
        "id": "ecf2c62c"
      },
      "outputs": [],
      "source": []
    },
    {
      "cell_type": "code",
      "execution_count": null,
      "id": "6a24bb73",
      "metadata": {
        "id": "6a24bb73"
      },
      "outputs": [],
      "source": []
    },
    {
      "cell_type": "code",
      "execution_count": null,
      "id": "0e42eee7",
      "metadata": {
        "id": "0e42eee7"
      },
      "outputs": [],
      "source": []
    },
    {
      "cell_type": "code",
      "execution_count": null,
      "id": "4a0a2cc5",
      "metadata": {
        "id": "4a0a2cc5"
      },
      "outputs": [],
      "source": []
    },
    {
      "cell_type": "code",
      "execution_count": null,
      "id": "36cdea6b",
      "metadata": {
        "id": "36cdea6b"
      },
      "outputs": [],
      "source": []
    }
  ],
  "metadata": {
    "kernelspec": {
      "display_name": "Python 3 (ipykernel)",
      "language": "python",
      "name": "python3"
    },
    "language_info": {
      "codemirror_mode": {
        "name": "ipython",
        "version": 3
      },
      "file_extension": ".py",
      "mimetype": "text/x-python",
      "name": "python",
      "nbconvert_exporter": "python",
      "pygments_lexer": "ipython3",
      "version": "3.9.13"
    },
    "colab": {
      "provenance": [],
      "include_colab_link": true
    }
  },
  "nbformat": 4,
  "nbformat_minor": 5
}